{
 "cells": [
  {
   "cell_type": "code",
   "execution_count": 2,
   "metadata": {},
   "outputs": [
    {
     "name": "stdout",
     "output_type": "stream",
     "text": [
      "Defaulting to user installation because normal site-packages is not writeable\n",
      "Collecting pandas\n",
      "  Using cached pandas-2.2.2-cp312-cp312-win_amd64.whl.metadata (19 kB)\n",
      "Collecting numpy>=1.26.0 (from pandas)\n",
      "  Using cached numpy-1.26.4-cp312-cp312-win_amd64.whl.metadata (61 kB)\n",
      "Requirement already satisfied: python-dateutil>=2.8.2 in c:\\users\\jmart\\appdata\\local\\packages\\pythonsoftwarefoundation.python.3.12_qbz5n2kfra8p0\\localcache\\local-packages\\python312\\site-packages (from pandas) (2.9.0.post0)\n",
      "Collecting pytz>=2020.1 (from pandas)\n",
      "  Using cached pytz-2024.1-py2.py3-none-any.whl.metadata (22 kB)\n",
      "Collecting tzdata>=2022.7 (from pandas)\n",
      "  Using cached tzdata-2024.1-py2.py3-none-any.whl.metadata (1.4 kB)\n",
      "Requirement already satisfied: six>=1.5 in c:\\users\\jmart\\appdata\\local\\packages\\pythonsoftwarefoundation.python.3.12_qbz5n2kfra8p0\\localcache\\local-packages\\python312\\site-packages (from python-dateutil>=2.8.2->pandas) (1.16.0)\n",
      "Using cached pandas-2.2.2-cp312-cp312-win_amd64.whl (11.5 MB)\n",
      "Using cached numpy-1.26.4-cp312-cp312-win_amd64.whl (15.5 MB)\n",
      "Using cached pytz-2024.1-py2.py3-none-any.whl (505 kB)\n",
      "Using cached tzdata-2024.1-py2.py3-none-any.whl (345 kB)\n",
      "Installing collected packages: pytz, tzdata, numpy, pandas\n",
      "Successfully installed numpy-1.26.4 pandas-2.2.2 pytz-2024.1 tzdata-2024.1\n"
     ]
    }
   ],
   "source": [
    "!pip install pandas"
   ]
  },
  {
   "cell_type": "code",
   "execution_count": 2,
   "metadata": {},
   "outputs": [],
   "source": [
    "import pandas as pd\n",
    "import os\n",
    "import numpy as np\n",
    "import re"
   ]
  },
  {
   "cell_type": "code",
   "execution_count": 3,
   "metadata": {},
   "outputs": [],
   "source": [
    "PATH = os.getcwd().replace('\\\\','/')+'/docs/items/'\n",
    "COMPILATION_PATH = os.getcwd()+'\\\\'"
   ]
  },
  {
   "cell_type": "code",
   "execution_count": 4,
   "metadata": {},
   "outputs": [
    {
     "data": {
      "text/plain": [
       "'c:\\\\Users\\\\jmart\\\\Development\\\\cv.github.io\\\\'"
      ]
     },
     "execution_count": 4,
     "metadata": {},
     "output_type": "execute_result"
    }
   ],
   "source": [
    "COMPILATION_PATH"
   ]
  },
  {
   "attachments": {},
   "cell_type": "markdown",
   "metadata": {},
   "source": [
    "# Items a añadir a los cv"
   ]
  },
  {
   "attachments": {},
   "cell_type": "markdown",
   "metadata": {},
   "source": [
    "### Asociaciones"
   ]
  },
  {
   "cell_type": "code",
   "execution_count": 3,
   "metadata": {},
   "outputs": [],
   "source": [
    "file = open(PATH+'associations.tex')\n",
    "original = file.read()\n",
    "file.close()\n",
    "\n",
    "association = input('Enter the association name: ')\n",
    "charge = input('Enter the description of the charge in the association: ')\n",
    "start_date = input('Enter the start date of the association membership: ')\n",
    "end_date = input('Enter the end date of the association membership: ')\n",
    "\n",
    "\n",
    "new_item = open(PATH+'associations.tex','w')\n",
    "new_item.write(original+'\\\\assoc{{{}}}{{{}}}{{{}}}{{{}}}\\\\spaceddos'.format(association,charge,start_date,end_date))\n",
    "new_item.close()"
   ]
  },
  {
   "attachments": {},
   "cell_type": "markdown",
   "metadata": {},
   "source": [
    "### Divulgación\n"
   ]
  },
  {
   "cell_type": "code",
   "execution_count": null,
   "metadata": {},
   "outputs": [
    {
     "name": "stdout",
     "output_type": "stream",
     "text": [
      "['', '\\n    \\\\item \\\\fullcite{TEMAT}. \\\\href{https://temat.es/monograficos/article/view/vol1-p47}{Link to the paper}\\n    \\\\item \\\\fullcite{TEMAT2}. \\\\href{https://temat.es/articulo/2017-p15}{Link to the paper}\\n\\\\end{enumerate}']\n"
     ]
    }
   ],
   "source": [
    "file = open(PATH+'dissemination.tex')\n",
    "original = file.read()\n",
    "file.close()\n",
    "\n",
    "original = original.split('\\\\nopagebreak\\n\\\\begin{enumerate}')\n",
    "link = input('Enter the link to the paper')\n",
    "\n",
    "bibitem = input('Enter the name of the bibliographic item in the references file: ')\n",
    " \n",
    "\n",
    "print(original)\n",
    "\n",
    "\n",
    "new_item = open(PATH+'dissemination.tex','w')\n",
    "new_item.write('\\\\nopagebreak\\\\begin{{enumerate}}\\n\\t\\\\item  \\\\fullcite{{{}}}. \\\\href{{{}}}{{Link to the paper}}\\n'.format(bibitem,link)+original[1])\n",
    "new_item.close()"
   ]
  },
  {
   "attachments": {},
   "cell_type": "markdown",
   "metadata": {},
   "source": [
    "### Educación"
   ]
  },
  {
   "cell_type": "code",
   "execution_count": null,
   "metadata": {},
   "outputs": [
    {
     "name": "stdout",
     "output_type": "stream",
     "text": [
      "['\\t\\t', \"\\t\\n\\t\\t\\\\begin{education} \\n\\t\\t\\t{PhD degree in Mathematics and Statistics}\\n\\t\\t\\t{Basque Center for Applied Mathematics}\\n\\t\\t\\t{Sept 2016}\\n\\t\\t\\t{Dec 2020}\\n\\t\\t\\\\end{education}\\n\\n\\t\\t\\\\begin{education} \\n\\t\\t\\t{Master's degree in Mathematics and Statistics}\\n\\t\\t\\t{Universities of Almer\\\\'ia, C\\\\'adiz, Granada, Ja\\\\'en and M\\\\'alaga}\\n\\t\\t\\t{Sept 2015}\\n\\t\\t\\t{Jul 2016}\\n\\t\\t\\\\end{education}\\n\\n\\t\\t\\\\begin{firsteducation} \\n\\t\\t\\t{Bachelor's degree in Mathematics}\\n\\t\\t\\t{University of M\\\\'alaga}\\n\\t\\t\\t{Sept 2011}\\n\\t\\t\\t{Jul 2015}\\n\\t\\t\\\\end{firsteducation}\"]\n"
     ]
    }
   ],
   "source": [
    "file = open(PATH+'education.tex')\n",
    "original = file.read()\n",
    "file.close()\n",
    "\n",
    "original = original.split('\\\\nopagebreak')\n",
    "\n",
    "degree = input('Enter the name of the degree: ')\n",
    "center =  input('Enter the name of the center: ')\n",
    "start_date = input('Enter the start date of the degree: ')\n",
    "end_date = input('Enter the end date of the degree: ')\n",
    "\n",
    "# bibitem = input('Enter the name of the bibliographic item in the references file: ')\n",
    "# link = input('Enter the link to the paper')\n",
    "\n",
    "print(original)\n",
    "\n",
    "\n",
    "new_item = open(PATH+'education.tex','w')\n",
    "new_item.write('\\\\nopagebreak\\n\\\\begin{{education}}\\n\\t\\t{{{}}}\\n\\t\\t{{{}}}\\n\\t\\t{{{}}}\\n\\t\\t{{{}}}\\n\\\\end{{education}}'.format(degree,center,start_date,end_date)+original[1])\n",
    "new_item.close()"
   ]
  },
  {
   "attachments": {},
   "cell_type": "markdown",
   "metadata": {},
   "source": [
    "### Employment"
   ]
  },
  {
   "cell_type": "code",
   "execution_count": 6,
   "metadata": {},
   "outputs": [],
   "source": [
    "file = open(PATH+'employment.tex')\n",
    "original = file.read()\n",
    "file.close()\n",
    "\n",
    "original = original.split('\\\\nopagebreak')\n",
    "\n",
    "position = input('Enter the name of the degree: ')\n",
    "institution =  input('Enter the name of the center: ')\n",
    "start_date = input('Enter the start date of the degree: ')\n",
    "end_date = input('Enter the end date of the degree: ')\n",
    "description = input('Enter the description of the job: ')\n",
    "\n",
    "# bibitem = input('Enter the name of the bibliographic item in the references file: ')\n",
    "# link = input('Enter the link to the paper')\n",
    " \n",
    "\n",
    "\n",
    "new_item = open(PATH+'employment.tex','w')\n",
    "new_item.write('\\\\nopagebreak\\n\\\\begin{{employment}}\\n\\t\\t{{{}}}\\n\\t\\t{{{}}}\\n\\t\\t{{{}}}\\n\\t\\t{{{}}}\\n\\t\\t{{{}}}\\n\\\\end{{employment}}\\n'.format(position,institution,start_date,end_date,description)+original[1])\n",
    "new_item.close()"
   ]
  },
  {
   "attachments": {},
   "cell_type": "markdown",
   "metadata": {},
   "source": [
    "### Languages"
   ]
  },
  {
   "cell_type": "code",
   "execution_count": null,
   "metadata": {},
   "outputs": [],
   "source": [
    "file = open(PATH+'languages.tex')\n",
    "original = file.read()\n",
    "file.close()\n",
    "\n",
    "original = original.split('\\\\begin{lang}{Spanish}{Mother tongue}\\n\\\\end{lang}')\n",
    "original\n",
    "\n",
    "lang = input('Enter the language: ')\n",
    "level = input('Enter the level: ')\n",
    "\n",
    "\n",
    "new_item = open(PATH+'languages.tex','w')\n",
    "new_item.write('\\\\begin{lang}{Spanish}{Mother tongue}\\\\end{lang}'+original[1]+'\\n\\n\\\\begin{{lang}}{{{}}}{{{}}}\\\\end{{lang}}\\n\\n'.format(lang,level))\n",
    "new_item.close()"
   ]
  },
  {
   "attachments": {},
   "cell_type": "markdown",
   "metadata": {},
   "source": [
    "### Others\n"
   ]
  },
  {
   "cell_type": "code",
   "execution_count": null,
   "metadata": {},
   "outputs": [
    {
     "name": "stdout",
     "output_type": "stream",
     "text": [
      "['', '\\n\\\\begin{other}\\n    {Editor and reviewer in the dissemination journal TEMat}\\n    {\\\\href{http://temat.anemat.com}{{\\\\underline{Webpage of the journal}}}}\\n    {2016}\\n    {2022}\\n\\\\end{other}\\n\\n\\\\begin{other}\\n    {Co-organiser of the LIGHT seminar at BCAM}\\n    {\\\\href{https://sites.google.com/view/lightseminar}{{\\\\underline{Webpage of the seminar}}}}\\n    {2018}\\n    {2020}\\n\\\\end{other}']\n"
     ]
    }
   ],
   "source": [
    "file = open(PATH+'others.tex')\n",
    "original = file.read()\n",
    "file.close()\n",
    "\n",
    "original = original.split('\\\\nopagebreak')\n",
    "\n",
    "other = input('Enter the name of the other thing: ')\n",
    "link =  input('Enter the link of the thing: ')\n",
    "start_date = input('Enter the start date of the degree: ')\n",
    "end_date = input('Enter the end date of the degree: ')\n",
    "\n",
    "\n",
    "new_item = open(PATH+'others.tex','w')\n",
    "new_item.write('\\\\nopagebreak\\n\\\\begin{{other}}\\n\\t\\t{{{}}}\\n\\t\\t{{{}}}\\n\\t\\t{{{}}}\\n\\t\\t{{{}}}\\n\\\\end{{other}}\\n\\n'.format(degree,center,start_date,end_date)+original[1])\n",
    "new_item.close()"
   ]
  },
  {
   "attachments": {},
   "cell_type": "markdown",
   "metadata": {},
   "source": [
    "### Research stays"
   ]
  },
  {
   "cell_type": "code",
   "execution_count": null,
   "metadata": {},
   "outputs": [],
   "source": [
    "file = open(PATH+'research_stays.tex')\n",
    "original = file.read()\n",
    "file.close()\n",
    "\n",
    "original = original.split('\\\\nopagebreak')\n",
    "\n",
    "center = input('Enter the name of the center: ')\n",
    "place =  input('Enter the  name of the country: ')\n",
    "start_date = input('Enter the start date of the degree: ')\n",
    "end_date = input('Enter the end date of the degree: ')\n",
    "host = input('Enter the host of the stay: ')\n",
    "\n",
    "\n",
    "new_item = open(PATH+'research_stays.tex','w')\n",
    "new_item.write('\\\\nopagebreak\\n\\\\begin{{stay}}\\n\\t\\t{{{}}}\\n\\t\\t{{{}}}\\n\\t\\t{{{}}}\\n\\t\\t{{{}}}\\n\\t\\t{{{}}}\\n\\\\end{{stay}}\\n'.format(center,place,start_date,end_date,host)+original[1])\n",
    "new_item.close()"
   ]
  },
  {
   "attachments": {},
   "cell_type": "markdown",
   "metadata": {},
   "source": [
    "### Research"
   ]
  },
  {
   "cell_type": "code",
   "execution_count": null,
   "metadata": {},
   "outputs": [
    {
     "name": "stdout",
     "output_type": "stream",
     "text": [
      "['', '\\n\\\\item  \\\\fullcite{f}\\n    \\\\item \\\\fullcite{hurri2022bbm}\\n    \\\\item \\\\fullcite{martinez2020quantitative}\\n    \\\\item  \\\\fullcite{kosz2022maximal}\\n    %\\\\item \\\\fullcite{Martinez2020-2}\\n    \\\\item \\\\fullcite{Martinez2020}\\n    \\\\item \\\\fullcite{Cejas2019}\\n    \\\\item \\\\fullcite{Accomazzo2017}\\n\\\\end{itemize}\\t']\n"
     ]
    }
   ],
   "source": [
    "file = open(PATH+'research.tex')\n",
    "original = file.read()\n",
    "file.close()\n",
    "\n",
    "original = original.split('\\\\nopagebreak[4]\\\\begin{itemize}')\n",
    "\n",
    "\n",
    "bibitem = input('Enter the name of the bibliographic item in the references file: ')\n",
    " \n",
    "\n",
    "print(original)\n",
    "\n",
    "\n",
    "new_item = open(PATH+'research.tex','w')\n",
    "new_item.write('\\\\nopagebreak[4]\\\\begin{{itemize}}\\n\\t\\\\item  \\\\fullcite{{{}}}'.format(bibitem)+original[1])\n",
    "new_item.close()"
   ]
  },
  {
   "attachments": {},
   "cell_type": "markdown",
   "metadata": {},
   "source": [
    "### Soft basic skills\n"
   ]
  },
  {
   "cell_type": "code",
   "execution_count": null,
   "metadata": {},
   "outputs": [],
   "source": [
    "file = open(PATH+'soft_basicskills.tex')\n",
    "original = file.read()\n",
    "file.close()\n",
    "\n",
    "original = original.split('\\\\,')\n",
    "\n",
    "skill = input('Enter the name of the skill: ')\n",
    "\n",
    "\n",
    "new_item = open(PATH+'soft_basicskills.tex','w')\n",
    "new_item.write(original[0]+'\\\\spaced {}\\\\,'.format(skill))\n",
    "new_item.close()"
   ]
  },
  {
   "attachments": {},
   "cell_type": "markdown",
   "metadata": {},
   "source": [
    "### Soft strong skills"
   ]
  },
  {
   "cell_type": "code",
   "execution_count": null,
   "metadata": {},
   "outputs": [],
   "source": [
    "file = open(PATH+'soft_strongskills.tex')\n",
    "original = file.read()\n",
    "file.close()\n",
    "\n",
    "original = original.split('\\\\,')\n",
    "\n",
    "skill = input('Enter the name of the skill: ')\n",
    "\n",
    "\n",
    "new_item = open(PATH+'soft_strongskills.tex','w')\n",
    "new_item.write(original[0]+'\\\\spaced {}\\\\,'.format(skill))\n",
    "new_item.close()"
   ]
  },
  {
   "attachments": {},
   "cell_type": "markdown",
   "metadata": {},
   "source": [
    "### Talks"
   ]
  },
  {
   "cell_type": "code",
   "execution_count": null,
   "metadata": {},
   "outputs": [],
   "source": [
    "file = open(PATH+'talks-posters.tex')\n",
    "original = file.read()\n",
    "file.close()\n",
    "\n",
    "original = original.split('\\\\nopagebreak')\n",
    "\n",
    "date = input('Enter the date: ')\n",
    "title = input('Enter the title: ')\n",
    "where = input('Enter the place of the talk: ')\n",
    "link = input('Enter the link: ')\n",
    "\n",
    "\n",
    "new_item = open(PATH+'talks-posters.tex','w')\n",
    "new_item.write('\\\\nopagebreak\\n\\\\begin{{talk}}\\n\\t\\t{{{}}}\\n\\t\\t{{{}}}\\n\\t\\t{{{}}}\\n\\t\\t{{{}}}\\n\\\\end{{talk}}\\n\\n'.format(date,title,where,link)+original[1])\n",
    "new_item.close()"
   ]
  },
  {
   "attachments": {},
   "cell_type": "markdown",
   "metadata": {},
   "source": [
    "### Posters"
   ]
  },
  {
   "cell_type": "code",
   "execution_count": null,
   "metadata": {},
   "outputs": [],
   "source": [
    "file = open(PATH+'talks-posters.tex')\n",
    "original = file.read()\n",
    "file.close()\n",
    "\n",
    "original = original.split('\\\\nopagebreak')\n",
    "\n",
    "date = input('Enter the date: ')\n",
    "title = input('Enter the title: ')\n",
    "where = input('Enter the place of the talk: ')\n",
    "link = input('Enter the link: ')\n",
    "\n",
    "\n",
    "new_item = open(PATH+'talks-posters.tex','w')\n",
    "new_item.write('\\\\nopagebreak\\n\\\\begin{{poster}}\\n\\t\\t{{{}}}\\n\\t\\t{{{}}}\\n\\t\\t{{{}}}\\n\\t\\t{{{}}}\\n\\\\end{{poster}}\\n\\n'.format(date,title,where,link)+original[1])\n",
    "new_item.close()"
   ]
  },
  {
   "attachments": {},
   "cell_type": "markdown",
   "metadata": {},
   "source": [
    "### Technical familiar skills"
   ]
  },
  {
   "cell_type": "code",
   "execution_count": null,
   "metadata": {},
   "outputs": [],
   "source": [
    "file = open(PATH+'tech_familiarskills.tex')\n",
    "original = file.read()\n",
    "file.close()\n",
    "\n",
    "original = original.split('\\\\,')\n",
    "\n",
    "skill = input('Enter the name of the skill: ')\n",
    "\n",
    "\n",
    "new_item = open(PATH+'tech_familiarskills.tex','w')\n",
    "new_item.write(original[0]+'\\\\spaced {}\\\\,'.format(skill))\n",
    "new_item.close()"
   ]
  },
  {
   "attachments": {},
   "cell_type": "markdown",
   "metadata": {},
   "source": [
    "### Technical proficient skills"
   ]
  },
  {
   "cell_type": "code",
   "execution_count": 5,
   "metadata": {},
   "outputs": [],
   "source": [
    "file = open(PATH+'tech_proficientskills.tex')\n",
    "original = file.read()\n",
    "file.close()\n",
    "\n",
    "original = original.split('\\\\,')\n",
    "\n",
    "skill = input('Enter the name of the skill: ')\n",
    "\n",
    "\n",
    "new_item = open(PATH+'tech_proficientskills.tex','w')\n",
    "new_item.write(original[0]+'\\\\spaced {}\\\\,'.format(skill))\n",
    "new_item.close()"
   ]
  },
  {
   "attachments": {},
   "cell_type": "markdown",
   "metadata": {},
   "source": [
    "# Compilar los cv"
   ]
  },
  {
   "cell_type": "code",
   "execution_count": 7,
   "metadata": {},
   "outputs": [
    {
     "name": "stdout",
     "output_type": "stream",
     "text": [
      "Defaulting to user installation because normal site-packages is not writeable\n",
      "Requirement already satisfied: pylatex in c:\\users\\jmart\\appdata\\local\\packages\\pythonsoftwarefoundation.python.3.12_qbz5n2kfra8p0\\localcache\\local-packages\\python312\\site-packages (1.4.2)\n",
      "Requirement already satisfied: ordered-set in c:\\users\\jmart\\appdata\\local\\packages\\pythonsoftwarefoundation.python.3.12_qbz5n2kfra8p0\\localcache\\local-packages\\python312\\site-packages (from pylatex) (4.1.0)\n"
     ]
    }
   ],
   "source": [
    "!pip install pylatex"
   ]
  },
  {
   "cell_type": "code",
   "execution_count": 1,
   "metadata": {},
   "outputs": [],
   "source": [
    "# import library for the sleep function\n",
    "from time import sleep\n",
    "import pylatex\n",
    "import subprocess"
   ]
  },
  {
   "cell_type": "code",
   "execution_count": 7,
   "metadata": {},
   "outputs": [
    {
     "name": "stdout",
     "output_type": "stream",
     "text": [
      "Compiling with pdflatex new_academic.tex\n",
      "c:\\Users\\jmart\\Development\\cv.github.io\\new_academic.tex\n",
      "Compiling with biblatex new_academic.tex\n",
      "Compiling with biblatex again new_academic.tex\n",
      "Compiling with pdflatex new_academic.tex\n",
      "Compiling with pdflatex new_academic.tex\n",
      "Compiling with pdflatex new_academic.tex\n",
      "Curriculums compiled!\n"
     ]
    }
   ],
   "source": [
    "for file in os.listdir(COMPILATION_PATH):\n",
    "    if file.endswith(\"new_academic.tex\"):             #MODIFICADO PARA SOLO COMPILAR EL CV ACADEMICO\n",
    "        print('Compiling with pdflatex '+file)\n",
    "        print(COMPILATION_PATH+file)\n",
    "        subprocess.call(['latexmk',COMPILATION_PATH+file])\n",
    "        print('Compiling with biblatex '+file)\n",
    "        subprocess.call(['bibtex',COMPILATION_PATH+file])\n",
    "        print('Compiling with biblatex again '+file)\n",
    "        subprocess.call(['bibtex',COMPILATION_PATH+file])\n",
    "        print('Compiling with pdflatex '+file)\n",
    "        subprocess.call(['latexmk',COMPILATION_PATH+file])\n",
    "        print('Compiling with pdflatex '+file)\n",
    "        subprocess.call(['latexmk',COMPILATION_PATH+file])\n",
    "        print('Compiling with pdflatex '+file)\n",
    "        subprocess.call(['pdflatex',COMPILATION_PATH+file])\n",
    "\n",
    "        os.replace(COMPILATION_PATH+file[:-4]+\".pdf\",COMPILATION_PATH+\"pdfs/\"+file[:-4]+\".pdf\")\n",
    "        # checks if the auxlog folder exists\n",
    "        if not os.path.exists(COMPILATION_PATH+'auxlog'):\n",
    "            os.makedirs(COMPILATION_PATH+'auxlog')\n",
    "        # moves the aux and log files to the auxlog folder\n",
    "        for f in os.listdir(COMPILATION_PATH):\n",
    "            if f.startswith(file[:-4]):\n",
    "                if not f.endswith(\".tex\"):\n",
    "                    os.replace(COMPILATION_PATH+f,COMPILATION_PATH+\"auxlog/\"+f)\n",
    "if os.path.exists(COMPILATION_PATH+'texput.log'): \n",
    "    os.remove(COMPILATION_PATH+'texput.log') \n",
    "print('Curriculums compiled!')"
   ]
  },
  {
   "cell_type": "code",
   "execution_count": 8,
   "metadata": {},
   "outputs": [
    {
     "data": {
      "text/plain": [
       "'c:\\\\Users\\\\jmart\\\\Development\\\\cv.github.io\\\\docs/cv_martinez_perales.pdf'"
      ]
     },
     "execution_count": 8,
     "metadata": {},
     "output_type": "execute_result"
    }
   ],
   "source": [
    "# copiar el cv new_academic.pdf a la carpeta docs, sin borrar el anterior\n",
    "import shutil\n",
    "shutil.copy(COMPILATION_PATH+'pdfs/new_academic.pdf',COMPILATION_PATH+'docs/cv_martinez_perales.pdf')\n",
    "\n"
   ]
  },
  {
   "cell_type": "code",
   "execution_count": 12,
   "metadata": {},
   "outputs": [
    {
     "name": "stdout",
     "output_type": "stream",
     "text": [
      "Compiling new_academic.tex\n"
     ]
    }
   ],
   "source": [
    "# for file in os.listdir(COMPILATION_PATH):\n",
    "#     if file.endswith(\".tex\"):\n",
    "#         os.system('pdflatex \\\"'+COMPILATION_PATH+file+'\\\"')\n",
    "#         sleep(2)\n",
    "#         #compiling for bibtex\n",
    "#         # os.system('bibtex \\\"'+COMPILATION_PATH+file+'\\\"')\n",
    "#         # sleep(2)\n",
    "#         os.system('bibtex \\\"'+COMPILATION_PATH+file+'\\\"')\n",
    "#         sleep(2)\n",
    "#         # os.system('pdflatex \\\"'+COMPILATION_PATH+file+'\\\"')\n",
    "#         # sleep(2)\n",
    "#         # os.system('biblatex \\\"'+COMPILATION_PATH+file+'\\\"')\n",
    "#         sleep(2)\n",
    "#         os.system('pdflatex \\\"'+COMPILATION_PATH+file+'\\\"')\n",
    "#         sleep(2)\n",
    "#         os.system('pdflatex \\\"'+COMPILATION_PATH+file+'\\\"')\n",
    "\n",
    "#         # os.system('pdflatex \\\"'+comp_path+file+'\\\"')\n",
    "#         print('Compiling '+file)\n",
    "        \n",
    "#         os.replace(COMPILATION_PATH+file[:-4]+\".pdf\",COMPILATION_PATH+\"pdfs/\"+file[:-4]+\".pdf\")\n",
    "#         os.replace(COMPILATION_PATH+file[:-4]+\".aux\",COMPILATION_PATH+\"auxlog/\"+file[:-4]+\".aux\")\n",
    "#         os.replace(COMPILATION_PATH+file[:-4]+\".log\",COMPILATION_PATH+\"auxlog/\"+file[:-4]+\".log\")\n",
    "#         os.replace(COMPILATION_PATH+file[:-4]+\".run.xml\",COMPILATION_PATH+\"auxlog/\"+file[:-4]+\".run.xml\")\n",
    "#         # os.replace(COMPILATION_PATH+file[:-4]+\".out\",COMPILATION_PATH+\"auxlog/\"+file[:-4]+\".out\")\n",
    "#         os.replace(COMPILATION_PATH+file[:-4]+\"-blx.bib\",COMPILATION_PATH+\"auxlog/\"+file[:-4]+\"-blx.bib\")\n",
    "# print('Curriculums compiled!')    "
   ]
  }
 ],
 "metadata": {
  "kernelspec": {
   "display_name": "Python 3.10.5 64-bit",
   "language": "python",
   "name": "python3"
  },
  "language_info": {
   "codemirror_mode": {
    "name": "ipython",
    "version": 3
   },
   "file_extension": ".py",
   "mimetype": "text/x-python",
   "name": "python",
   "nbconvert_exporter": "python",
   "pygments_lexer": "ipython3",
   "version": "3.12.3"
  },
  "orig_nbformat": 4,
  "vscode": {
   "interpreter": {
    "hash": "5a2cf9f35529ff3388c3402147288e0ded88194235c2b85652654ae961797269"
   }
  }
 },
 "nbformat": 4,
 "nbformat_minor": 2
}
